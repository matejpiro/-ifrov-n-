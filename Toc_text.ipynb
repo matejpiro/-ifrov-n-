{
 "cells": [
  {
   "cell_type": "code",
   "execution_count": 1,
   "metadata": {},
   "outputs": [],
   "source": [
    "def toc_text(text, tabulka, delka, offset=0):\n",
    "    if delka==1:\n",
    "        tabulka[offset][offset] = text[0]\n",
    "        return\n",
    "    if len(text) == 0:\n",
    "        return\n",
    "    \n",
    "    i = 0\n",
    "    # x sloupec\n",
    "    # y radek\n",
    "    for x in range(delka):\n",
    "        tabulka[offset+0][offset+x] = text[i]\n",
    "        i += 1 # i = i+1\n",
    "    for y in range(1, delka-1):\n",
    "        tabulka[offset+y][offset+delka-1] = text[i]\n",
    "        i += 1\n",
    "    for x in range(delka):\n",
    "        tabulka[offset+delka-1][offset+delka-1-x] = text[i]\n",
    "        i += 1\n",
    "    for y in range(1, delka-1):\n",
    "        tabulka[offset+delka-1-y][offset+0] = text[i]\n",
    "        i += 1\n",
    "        \n",
    "    toc_text(text[i:], tabulka, delka-2, offset+1)"
   ]
  },
  {
   "cell_type": "code",
   "execution_count": 2,
   "metadata": {},
   "outputs": [],
   "source": [
    "velikost = 6\n",
    "tabulka = [[[] for i in range(velikost)] for j in range(velikost)]\n",
    "text = [i for i in range(velikost*velikost)]"
   ]
  },
  {
   "cell_type": "code",
   "execution_count": 3,
   "metadata": {},
   "outputs": [],
   "source": [
    "toc_text(text[::-1], tabulka, velikost, 0)"
   ]
  },
  {
   "cell_type": "code",
   "execution_count": 4,
   "metadata": {},
   "outputs": [
    {
     "data": {
      "text/plain": [
       "[[35, 34, 33, 32, 31, 30],\n",
       " [16, 15, 14, 13, 12, 29],\n",
       " [17, 4, 3, 2, 11, 28],\n",
       " [18, 5, 0, 1, 10, 27],\n",
       " [19, 6, 7, 8, 9, 26],\n",
       " [20, 21, 22, 23, 24, 25]]"
      ]
     },
     "execution_count": 4,
     "metadata": {},
     "output_type": "execute_result"
    }
   ],
   "source": [
    "tabulka"
   ]
  }
 ],
 "metadata": {
  "kernelspec": {
   "display_name": "Python 3",
   "language": "python",
   "name": "python3"
  },
  "language_info": {
   "codemirror_mode": {
    "name": "ipython",
    "version": 3
   },
   "file_extension": ".py",
   "mimetype": "text/x-python",
   "name": "python",
   "nbconvert_exporter": "python",
   "pygments_lexer": "ipython3",
   "version": "3.8.6"
  }
 },
 "nbformat": 4,
 "nbformat_minor": 4
}
