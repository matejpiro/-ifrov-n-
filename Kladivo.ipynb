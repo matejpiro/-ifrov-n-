{
 "cells": [
  {
   "cell_type": "markdown",
   "metadata": {},
   "source": [
    "# Točíme zprostředka kladivem"
   ]
  },
  {
   "cell_type": "markdown",
   "metadata": {},
   "source": [
    "No, tak začneme tim, že rozměr tabulky je n×n a budeme se v ní pohybovat pomocí \"ukazatelů\" `row` a `col` (řádek a sloupec). Tabulka bude obsahovat vždy právě jedno písmeno nebo prázdný řetězec `\"\"`."
   ]
  },
  {
   "cell_type": "code",
   "execution_count": 1,
   "metadata": {},
   "outputs": [],
   "source": [
    "def create_table(n):\n",
    "    return [[\"\" for i in range(n)] for j in range(n)]"
   ]
  },
  {
   "cell_type": "code",
   "execution_count": 2,
   "metadata": {},
   "outputs": [
    {
     "data": {
      "text/plain": [
       "[['', '', '', '', ''],\n",
       " ['', '', '', '', ''],\n",
       " ['', '', '', '', ''],\n",
       " ['', '', '', '', ''],\n",
       " ['', '', '', '', '']]"
      ]
     },
     "execution_count": 2,
     "metadata": {},
     "output_type": "execute_result"
    }
   ],
   "source": [
    "create_table(5)"
   ]
  },
  {
   "cell_type": "markdown",
   "metadata": {},
   "source": [
    "Vytvoříme si seznam možných směrů ve správném pořadí. Směrem rozumím informaci, jak mám změnit `(row,col)`, abych se posunul, kam chci. Například doprava je `(1,0)` a nahoru `(0,-1)`. Jakmile dokončim jeden směr (povíme si později), posunu se na další. To udělám tak, že si budu pamatovat index momentálního směru. Index je pořadí (od 0) v tom poli, tedy `0` až `3`. Abychom to mohli točit, z trojky potřebujem skočit zase na nulu. To nám udělá funkce `next_dir_index`. "
   ]
  },
  {
   "cell_type": "code",
   "execution_count": 3,
   "metadata": {},
   "outputs": [],
   "source": [
    "directions = [(1,0), (0,-1), (-1,0), (0,1)]\n",
    "\n",
    "def next_dir_index(current_dir_index):\n",
    "    return (current_dir_index+1) % 4"
   ]
  },
  {
   "cell_type": "markdown",
   "metadata": {},
   "source": [
    "V zásadě si tak budeš udržovat 4 čísla: `row`, `col`, `dir_i`, `text_index`. To poslední ti řekne, jak daleko jsi v textu."
   ]
  },
  {
   "cell_type": "markdown",
   "metadata": {},
   "source": [
    "A základní myšlenka je, že pojedeš jedním směrem, dokud nezjistíš, že bys měl zatočit. To jest, zapíšeš znak do tabulky na `[row],[col]` a pak se posuneš (změníš `row` a `col`) podle aktuálního směru. A potom zkontroluješ, zda máš volno na pozici ve směru, který má následovat. Pokud je tam volno, tak změníš směr. Jinak jedeš pořád ve stejným směru. Bude se ti hodit napsat si nejdřív nějaký menší funkce. Třeba tyhle."
   ]
  },
  {
   "cell_type": "code",
   "execution_count": 4,
   "metadata": {},
   "outputs": [],
   "source": [
    "def check_free(table, row, col):\n",
    "    '''\n",
    "    Return `True` if table does not contain any character\n",
    "    at `[row][col]`, `False` otherwise.\n",
    "    '''\n",
    "    pass"
   ]
  },
  {
   "cell_type": "code",
   "execution_count": 5,
   "metadata": {},
   "outputs": [],
   "source": [
    "def move_in_dir(row, col, dir_i):\n",
    "    '''\n",
    "    Return new row and col changed by direction with\n",
    "    index `dir_i`,\n",
    "    '''\n",
    "    pass"
   ]
  },
  {
   "cell_type": "markdown",
   "metadata": {},
   "source": [
    "No, a než to dáš všechno do kupy, tak si musíš vypočítat, kde začneš vyplňovat a jakým směrem. To už nechám na tobě."
   ]
  },
  {
   "cell_type": "code",
   "execution_count": 6,
   "metadata": {},
   "outputs": [],
   "source": [
    "def get_init_position(n):\n",
    "    pass\n",
    "\n",
    "def get_init_dir_i(n):\n",
    "    '''\n",
    "    Maybe we don't need `n` if the direction is always the same.\n",
    "    '''\n",
    "    pass"
   ]
  },
  {
   "cell_type": "code",
   "execution_count": 7,
   "metadata": {},
   "outputs": [],
   "source": [
    "def rotate_text(text, n):\n",
    "    pass"
   ]
  }
 ],
 "metadata": {
  "kernelspec": {
   "display_name": "Python 3",
   "language": "python",
   "name": "python3"
  },
  "language_info": {
   "codemirror_mode": {
    "name": "ipython",
    "version": 3
   },
   "file_extension": ".py",
   "mimetype": "text/x-python",
   "name": "python",
   "nbconvert_exporter": "python",
   "pygments_lexer": "ipython3",
   "version": "3.8.6"
  }
 },
 "nbformat": 4,
 "nbformat_minor": 4
}
